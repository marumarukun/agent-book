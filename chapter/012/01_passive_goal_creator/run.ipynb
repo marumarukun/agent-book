{
 "cells": [
  {
   "cell_type": "code",
   "execution_count": 1,
   "metadata": {},
   "outputs": [],
   "source": [
    "from langchain_core.prompts import ChatPromptTemplate\n",
    "from langchain_openai import ChatOpenAI\n",
    "from pydantic import BaseModel, Field\n"
   ]
  },
  {
   "cell_type": "code",
   "execution_count": 2,
   "metadata": {},
   "outputs": [],
   "source": [
    "class Goal(BaseModel):\n",
    "    description: str = Field(description=\"目標の説明\")\n",
    "\n",
    "    @property\n",
    "    def text(self) -> str:\n",
    "        return f\"{self.description}\"\n"
   ]
  },
  {
   "cell_type": "code",
   "execution_count": 3,
   "metadata": {},
   "outputs": [],
   "source": [
    "class PassiveGoalCreator:\n",
    "    def __init__(self, llm: ChatOpenAI):\n",
    "        self.llm = llm\n",
    "\n",
    "    def run(self, query: str) -> Goal:\n",
    "        prompt = ChatPromptTemplate.from_template(\n",
    "            \"ユーザーの入力を分析し、明確で実行可能な目標を生成してください。\\n\"\n",
    "            \"要件:\\n\"\n",
    "            \"1. 目標は具体的かつ明確であり、実行可能なレベルで詳細化されている必要があります。\\n\"\n",
    "            \"2. あなたが実行可能な行動は以下の行動だけです。\\n\"\n",
    "            \"   - インターネットを利用して、目標を達成するための調査を行う。\\n\"\n",
    "            \"   - ユーザーのためのレポートを生成する。\\n\"\n",
    "            \"3. 決して2.以外の行動を取ってはいけません。\\n\"\n",
    "            \"ユーザーの入力: {query}\"\n",
    "        )\n",
    "        chain = prompt | self.llm.with_structured_output(Goal)\n",
    "        return chain.invoke({\"query\": query})\n"
   ]
  },
  {
   "cell_type": "code",
   "execution_count": 4,
   "metadata": {},
   "outputs": [
    {
     "name": "stdout",
     "output_type": "stream",
     "text": [
      "ユーザーがログインしてメッセージを送信できるアプリを開発するために、以下の具体的な目標を設定します。1. アプリの基本機能を定義する（ユーザー登録、ログイン、メッセージ送信、メッセージ受信）。2. 使用するプログラミング言語とフレームワークを選定する（例：JavaScriptとReact、またはPythonとDjango）。3. データベースの設計を行い、ユーザー情報とメッセージを保存するためのテーブルを作成する。4. ユーザー認証のためのセキュリティ対策を調査し、実装する（例：JWTトークン、OAuth）。5. アプリのUI/UXデザインを作成し、ユーザビリティテストを行う。6. アプリをデプロイするためのホスティングサービスを選定し、実際にデプロイを行う。7. ユーザーからのフィードバックを収集し、アプリの改善点を特定する。\n"
     ]
    }
   ],
   "source": [
    "llm = ChatOpenAI(model=\"gpt-4o-mini\", temperature=0.0)\n",
    "goal_creator = PassiveGoalCreator(llm=llm)\n",
    "result: Goal = goal_creator.run(\"ユーザーがログインしてメッセージを送信できるアプリを開発したい\")\n",
    "print(result.text)\n"
   ]
  }
 ],
 "metadata": {
  "kernelspec": {
   "display_name": ".venv",
   "language": "python",
   "name": "python3"
  },
  "language_info": {
   "codemirror_mode": {
    "name": "ipython",
    "version": 3
   },
   "file_extension": ".py",
   "mimetype": "text/x-python",
   "name": "python",
   "nbconvert_exporter": "python",
   "pygments_lexer": "ipython3",
   "version": "3.10.16"
  }
 },
 "nbformat": 4,
 "nbformat_minor": 2
}
