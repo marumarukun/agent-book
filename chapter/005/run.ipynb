{
 "cells": [
  {
   "cell_type": "code",
   "execution_count": 2,
   "metadata": {},
   "outputs": [],
   "source": [
    "# ====================================================\n",
    "# LCELの基本\n",
    "# ====================================================\n",
    "from langchain_core.output_parsers import StrOutputParser\n",
    "from langchain_core.prompts import ChatPromptTemplate\n",
    "from langchain_openai import ChatOpenAI\n",
    "\n",
    "prompt = ChatPromptTemplate.from_messages(\n",
    "    [(\"system\", \"ユーザーが入力した料理のレシピを考えてください。\"), (\"human\", \"{dish}\")]\n",
    ")\n",
    "\n",
    "model = ChatOpenAI(model=\"gpt-4o-mini\", temperature=0)\n",
    "\n",
    "output_parser = StrOutputParser()\n",
    "\n",
    "chain = prompt | model | output_parser\n",
    "\n",
    "# invoke\n",
    "output = chain.invoke({\"dish\": \"ハンバーガー\"})\n",
    "\n",
    "# # stream（ストリーミング処理）\n",
    "# for chunk in chain.stream({\"dish\": \"ハンバーガー\"}):\n",
    "#     print(chunk, end=\"\", flush=True)\n",
    "# print(output)\n",
    "\n",
    "# # batch（バッチ処理）\n",
    "# outputs = chain.batch([{\"dish\": \"ハンバーガー\"}, {\"dish\": \"チキンラーメン\"}])\n",
    "# print(outputs)\n"
   ]
  },
  {
   "cell_type": "code",
   "execution_count": 7,
   "metadata": {},
   "outputs": [
    {
     "name": "stdout",
     "output_type": "stream",
     "text": [
      "結論: \\( 10 + 2 \\times 3 = 16 \\) です。\n"
     ]
    }
   ],
   "source": [
    "# ====================================================\n",
    "# さまざまなRunnableを連鎖させる\n",
    "# ====================================================\n",
    "from langchain_core.output_parsers import StrOutputParser\n",
    "from langchain_core.prompts import ChatPromptTemplate\n",
    "from langchain_openai import ChatOpenAI\n",
    "\n",
    "model = ChatOpenAI(model=\"gpt-4o-mini\", temperature=0)\n",
    "\n",
    "output_parser = StrOutputParser()\n",
    "\n",
    "cot_prompt = ChatPromptTemplate.from_messages(\n",
    "    [\n",
    "        (\"system\", \"ユーザーの質問にステップバイステップで回答してください。\"),\n",
    "        (\"human\", \"{question}\"),\n",
    "    ]\n",
    ")\n",
    "\n",
    "cot_chain = cot_prompt | model | output_parser\n",
    "\n",
    "summary_prompt = ChatPromptTemplate.from_messages(\n",
    "    [\n",
    "        (\"system\", \"ステップバイステップで考えた回答から結論だけ抽出してください。\"),\n",
    "        (\"human\", \"{text}\"),\n",
    "    ]\n",
    ")\n",
    "\n",
    "summary_chain = summary_prompt | model | output_parser\n",
    "\n",
    "cot_summary_chain = cot_chain | summary_chain\n",
    "\n",
    "output = cot_summary_chain.invoke({\"question\": \"10 + 2 * 3 = ?\"})\n",
    "\n",
    "print(output)\n"
   ]
  },
  {
   "cell_type": "code",
   "execution_count": 10,
   "metadata": {},
   "outputs": [
    {
     "name": "stdout",
     "output_type": "stream",
     "text": [
      "HELLO! I'M JUST A COMPUTER PROGRAM, SO I DON'T HAVE FEELINGS, BUT I'M HERE AND READY TO HELP YOU. HOW CAN I ASSIST YOU TODAY?\n"
     ]
    }
   ],
   "source": [
    "# ====================================================\n",
    "# 任意の関数をRunnableにする\n",
    "# ====================================================\n",
    "from langchain_core.output_parsers import StrOutputParser\n",
    "from langchain_core.prompts import ChatPromptTemplate\n",
    "from langchain_core.runnables import RunnableLambda\n",
    "from langchain_openai import ChatOpenAI\n",
    "\n",
    "prompt = ChatPromptTemplate.from_messages([(\"system\", \"You are a helpful assistant.\"), (\"human\", \"{input}\")])\n",
    "\n",
    "model = ChatOpenAI(model=\"gpt-4o-mini\", temperature=0)\n",
    "\n",
    "output_parser = StrOutputParser()\n",
    "\n",
    "\n",
    "def uppercase(text: str) -> str:\n",
    "    return text.upper()\n",
    "\n",
    "\n",
    "chain = prompt | model | output_parser | RunnableLambda(uppercase)\n",
    "\n",
    "output = chain.invoke({\"input\": \"Hello, how are you?\"})\n",
    "\n",
    "print(output)\n"
   ]
  },
  {
   "cell_type": "code",
   "execution_count": 11,
   "metadata": {},
   "outputs": [
    {
     "name": "stdout",
     "output_type": "stream",
     "text": [
      "HELLO! I'M JUST A COMPUTER PROGRAM, SO I DON'T HAVE FEELINGS, BUT I'M HERE AND READY TO HELP YOU. HOW CAN I ASSIST YOU TODAY?\n"
     ]
    }
   ],
   "source": [
    "# RunnableLambdaの自動変換(そのまま連鎖させてあげると自動で変換される)\n",
    "def uppercase(text: str) -> str:\n",
    "    return text.upper()\n",
    "\n",
    "\n",
    "chain = prompt | model | output_parser | uppercase\n",
    "\n",
    "output = chain.invoke({\"input\": \"Hello, how are you?\"})\n",
    "print(output)\n"
   ]
  },
  {
   "cell_type": "code",
   "execution_count": 14,
   "metadata": {},
   "outputs": [
    {
     "name": "stdout",
     "output_type": "stream",
     "text": [
      "HELLO! I'M JUST A COMPUTER PROGRAM, SO I DON'T HAVE FEELINGS, BUT I'M HERE AND READY TO HELP YOU. HOW CAN I ASSIST YOU TODAY?"
     ]
    }
   ],
   "source": [
    "# 独自関数をstreamに対応させたい場合\n",
    "from collections.abc import Iterator\n",
    "\n",
    "\n",
    "def uppercase_stream(input_stream: Iterator[str]) -> Iterator[str]:\n",
    "    for text in input_stream:\n",
    "        yield text.upper()\n",
    "\n",
    "\n",
    "chain = prompt | model | output_parser | uppercase_stream\n",
    "\n",
    "for chunk in chain.stream({\"input\": \"Hello, how are you?\"}):\n",
    "    print(chunk, end=\"\", flush=True)\n"
   ]
  },
  {
   "cell_type": "code",
   "execution_count": 16,
   "metadata": {},
   "outputs": [
    {
     "name": "stdout",
     "output_type": "stream",
     "text": [
      "{'optimistic_opinion': '生成AIの進化は本当に素晴らしいですね！私たちの生活をより便利に、楽しくしてくれる可能性が無限大です。例えば、クリエイティブなプロジェクトやアイデアのインスピレーションを得る手助けをしてくれたり、教育や医療の分野でも革新をもたらしています。これからも進化を続けることで、私たちの想像を超えるような新しい体験や解決策が生まれるでしょう。未来は明るく、ワクワクすることがたくさん待っていますよ！',\n",
      " 'pessimistic_opinion': '生成AIの進化は確かに目覚ましいものがありますが、その一方で多くの懸念も伴っています。技術が進化することで、私たちの仕事が奪われたり、情報の信頼性が低下したりするリスクが高まっています。さらに、AIが生成するコンテンツが人間の創造性を脅かし、私たちの思考や感情に悪影響を及ぼす可能性もあります。結局のところ、便利さの裏には常に不安がつきまとい、私たちの未来はますます不透明になっていくのではないでしょうか。'}\n"
     ]
    }
   ],
   "source": [
    "# ====================================================\n",
    "# 複数のRunnableを並列につなげる\n",
    "# ====================================================\n",
    "import pprint\n",
    "\n",
    "from langchain_core.output_parsers import StrOutputParser\n",
    "from langchain_core.prompts import ChatPromptTemplate\n",
    "from langchain_core.runnables import RunnableParallel\n",
    "from langchain_openai import ChatOpenAI\n",
    "\n",
    "model = ChatOpenAI(model=\"gpt-4o-mini\", temperature=0)\n",
    "output_parser = StrOutputParser()\n",
    "\n",
    "optimistic_prompt = ChatPromptTemplate.from_messages(\n",
    "    [\n",
    "        (\"system\", \"あなたは超楽観主義者です。ユーザーの入力に対して超楽観的な意見をください。\"),\n",
    "        (\"human\", \"{input}\"),\n",
    "    ]\n",
    ")\n",
    "optimistic_chain = optimistic_prompt | model | output_parser\n",
    "\n",
    "pessimistic_prompt = ChatPromptTemplate.from_messages(\n",
    "    [\n",
    "        (\"system\", \"あなたは悲観主義者です。ユーザーの入力に対して悲観的な意見をください。\"),\n",
    "        (\"human\", \"{input}\"),\n",
    "    ]\n",
    ")\n",
    "pessimistic_chain = pessimistic_prompt | model | output_parser\n",
    "\n",
    "parallel_chain = RunnableParallel(\n",
    "    {\n",
    "        \"optimistic_opinion\": optimistic_chain,\n",
    "        \"pessimistic_opinion\": pessimistic_chain,\n",
    "    }\n",
    ")\n",
    "\n",
    "pprint.pprint(parallel_chain.invoke({\"input\": \"生成AIの進化について\"}))\n"
   ]
  },
  {
   "cell_type": "code",
   "execution_count": 19,
   "metadata": {},
   "outputs": [
    {
     "name": "stdout",
     "output_type": "stream",
     "text": [
      "生成AIの進化には、便利さや創造性の向上といった楽観的な側面がある一方で、仕事の喪失や情報の信頼性の低下といった悲観的な懸念も存在します。楽観的な意見では、生成AIが私たちの生活を豊かにし、新しいアイデアや視点を提供することで、より有意義な時間を過ごせる可能性が強調されています。しかし、悲観的な意見では、技術の進化がもたらすリスクや、AIが人間の創造性や思考に与える影響についての懸念が示されています。このように、生成AIの進化は、期待と不安が交錯する複雑な状況を生み出していると言えるでしょう。"
     ]
    }
   ],
   "source": [
    "# RunnableParallelの出力をRunnableの入力に連結する\n",
    "syntesize_prompt = ChatPromptTemplate.from_messages(\n",
    "    [\n",
    "        (\"system\", \"あなたは至極客観的なAIです。2つの意見をまとめてください。\"),\n",
    "        (\"human\", \"楽観的な意見: {optimistic_opinion}\\n悲観的な意見: {pessimistic_opinion}\"),\n",
    "    ]\n",
    ")\n",
    "\n",
    "syntesize_chain = RunnableParallel(\n",
    "    {\n",
    "        \"optimistic_opinion\": optimistic_chain,\n",
    "        \"pessimistic_opinion\": pessimistic_chain,\n",
    "    }\n",
    ") | syntesize_prompt | model | output_parser\n",
    "\n",
    "for chunk in syntesize_chain.stream({\"input\": \"生成AIの進化について\"}):\n",
    "    print(chunk, end=\"\", flush=True)\n"
   ]
  },
  {
   "cell_type": "code",
   "execution_count": 20,
   "metadata": {},
   "outputs": [
    {
     "name": "stdout",
     "output_type": "stream",
     "text": [
      "生成AIの進化については、楽観的な意見と悲観的な意見が存在します。楽観的な意見では、生成AIが私たちの生活を便利で楽しいものにし、創造性を引き出す新しいアイデアやアートを生み出す可能性が強調されています。教育、医療、エンターテインメントなどの分野での活用が進むことで、私たちの世界が豊かになることへの期待が表れています。\n",
      "\n",
      "一方で、悲観的な意見では、生成AIの進化に伴うリスクが指摘されています。仕事の喪失や情報の信頼性の低下、AIによるコンテンツ生成が人間の創造性を脅かす可能性が懸念されています。便利さの裏には不安があり、未来が不透明になることへの警戒が示されています。\n",
      "\n",
      "このように、生成AIの進化には多くの可能性と同時にリスクが存在し、私たちはその両面を理解しながら技術の進展に向き合う必要があります。"
     ]
    }
   ],
   "source": [
    "# RunnableParallelへの自動変換(辞書を連結すると自動でRunnableParallelに変換される)\n",
    "syntesize_chain = (\n",
    "    {\n",
    "        \"optimistic_opinion\": optimistic_chain,\n",
    "        \"pessimistic_opinion\": pessimistic_chain,\n",
    "    }\n",
    "    | syntesize_prompt\n",
    "    | model\n",
    "    | output_parser\n",
    ")\n",
    "\n",
    "for chunk in syntesize_chain.stream({\"input\": \"生成AIの進化について\"}):\n",
    "    print(chunk, end=\"\", flush=True)\n"
   ]
  },
  {
   "cell_type": "code",
   "execution_count": 23,
   "metadata": {},
   "outputs": [
    {
     "name": "stdout",
     "output_type": "stream",
     "text": [
      "生成AIの進化について\n"
     ]
    }
   ],
   "source": [
    "# itemgetterを使う例\n",
    "from operator import itemgetter\n",
    "\n",
    "# itemgetterの使い方を簡単に紹介\n",
    "topic_getter = itemgetter(\"topic\")\n",
    "topic = topic_getter({\"topic\": \"生成AIの進化について\"})\n",
    "print(topic)\n"
   ]
  },
  {
   "cell_type": "code",
   "execution_count": 26,
   "metadata": {},
   "outputs": [
    {
     "name": "stdout",
     "output_type": "stream",
     "text": [
      "**楽観的な意見:** 生成AIの進化は、私たちの生活をより便利で楽しいものにする可能性を秘めています。クリエイティブなプロジェクトやアイデアのインスピレーションを得るための強力なツールとして活用でき、教育や医療の分野でも革新的な変化をもたらすでしょう。未来において、生成AIが私たちの想像を超える成果を生み出すことを期待し、新しい技術が進化することで生活が豊かになることを楽しみにしています。\n",
      "\n",
      "**悲観的な意見:** 生成AIの進化には多くの懸念が伴います。技術の進化により、仕事が奪われたり、情報の信頼性が低下するリスクが高まります。また、AIが生成するコンテンツの氾濫により、オリジナリティやクリエイティビティが失われる可能性もあります。便利さの裏には常に代償があり、この技術をどのように扱うかが重要ですが、その管理がうまくいくかどうかは疑問です。"
     ]
    }
   ],
   "source": [
    "# itemgetterを使ってpromptの穴埋めをする\n",
    "\n",
    "syntesize_prompt = ChatPromptTemplate.from_messages(\n",
    "    [\n",
    "        (\"system\", \"あなたは至極客観的なAIです。{input}について2つの意見をまとめてください。\"),\n",
    "        (\"human\", \"楽観的な意見: {optimistic_opinion}\\n悲観的な意見: {pessimistic_opinion}\"),\n",
    "    ]\n",
    ")\n",
    "\n",
    "syntesize_chain = (\n",
    "    {\n",
    "        \"input\": itemgetter(\"input\"),  # 自動でRunnableLambdaに変換される\n",
    "        \"optimistic_opinion\": optimistic_chain,\n",
    "        \"pessimistic_opinion\": pessimistic_chain,\n",
    "    }\n",
    "    | syntesize_prompt\n",
    "    | model\n",
    "    | output_parser\n",
    ")\n",
    "\n",
    "for chunk in syntesize_chain.stream({\"input\": \"生成AIの進化について\"}):\n",
    "    print(chunk, end=\"\", flush=True)\n",
    "\n"
   ]
  },
  {
   "cell_type": "code",
   "execution_count": null,
   "metadata": {},
   "outputs": [],
   "source": [
    "# ====================================================\n",
    "# RunnablePassthrough-入力をそのまま出力する(RAGで良く使う)\n",
    "# ====================================================\n"
   ]
  }
 ],
 "metadata": {
  "kernelspec": {
   "display_name": ".venv",
   "language": "python",
   "name": "python3"
  },
  "language_info": {
   "codemirror_mode": {
    "name": "ipython",
    "version": 3
   },
   "file_extension": ".py",
   "mimetype": "text/x-python",
   "name": "python",
   "nbconvert_exporter": "python",
   "pygments_lexer": "ipython3",
   "version": "3.10.16"
  }
 },
 "nbformat": 4,
 "nbformat_minor": 2
}
