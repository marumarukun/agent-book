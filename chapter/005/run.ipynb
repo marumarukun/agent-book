{
 "cells": [
  {
   "cell_type": "code",
   "execution_count": 2,
   "metadata": {},
   "outputs": [],
   "source": [
    "# ====================================================\n",
    "# LCELの基本\n",
    "# ====================================================\n",
    "from langchain_core.output_parsers import StrOutputParser\n",
    "from langchain_core.prompts import ChatPromptTemplate\n",
    "from langchain_openai import ChatOpenAI\n",
    "\n",
    "prompt = ChatPromptTemplate.from_messages(\n",
    "    [(\"system\", \"ユーザーが入力した料理のレシピを考えてください。\"), (\"human\", \"{dish}\")]\n",
    ")\n",
    "\n",
    "model = ChatOpenAI(model=\"gpt-4o-mini\", temperature=0)\n",
    "\n",
    "output_parser = StrOutputParser()\n",
    "\n",
    "chain = prompt | model | output_parser\n",
    "\n",
    "# invoke\n",
    "output = chain.invoke({\"dish\": \"ハンバーガー\"})\n",
    "\n",
    "# # stream（ストリーミング処理）\n",
    "# for chunk in chain.stream({\"dish\": \"ハンバーガー\"}):\n",
    "#     print(chunk, end=\"\", flush=True)\n",
    "# print(output)\n",
    "\n",
    "# # batch（バッチ処理）\n",
    "# outputs = chain.batch([{\"dish\": \"ハンバーガー\"}, {\"dish\": \"チキンラーメン\"}])\n",
    "# print(outputs)\n"
   ]
  },
  {
   "cell_type": "code",
   "execution_count": 7,
   "metadata": {},
   "outputs": [
    {
     "name": "stdout",
     "output_type": "stream",
     "text": [
      "結論: \\( 10 + 2 \\times 3 = 16 \\) です。\n"
     ]
    }
   ],
   "source": [
    "# ====================================================\n",
    "# さまざまなRunnableを連鎖させる\n",
    "# ====================================================\n",
    "from langchain_core.output_parsers import StrOutputParser\n",
    "from langchain_core.prompts import ChatPromptTemplate\n",
    "from langchain_openai import ChatOpenAI\n",
    "\n",
    "model = ChatOpenAI(model=\"gpt-4o-mini\", temperature=0)\n",
    "\n",
    "output_parser = StrOutputParser()\n",
    "\n",
    "cot_prompt = ChatPromptTemplate.from_messages(\n",
    "    [\n",
    "        (\"system\", \"ユーザーの質問にステップバイステップで回答してください。\"),\n",
    "        (\"human\", \"{question}\"),\n",
    "    ]\n",
    ")\n",
    "\n",
    "cot_chain = cot_prompt | model | output_parser\n",
    "\n",
    "summary_prompt = ChatPromptTemplate.from_messages(\n",
    "    [\n",
    "        (\"system\", \"ステップバイステップで考えた回答から結論だけ抽出してください。\"),\n",
    "        (\"human\", \"{text}\"),\n",
    "    ]\n",
    ")\n",
    "\n",
    "summary_chain = summary_prompt | model | output_parser\n",
    "\n",
    "cot_summary_chain = cot_chain | summary_chain\n",
    "\n",
    "output = cot_summary_chain.invoke({\"question\": \"10 + 2 * 3 = ?\"})\n",
    "\n",
    "print(output)\n"
   ]
  },
  {
   "cell_type": "code",
   "execution_count": 10,
   "metadata": {},
   "outputs": [
    {
     "name": "stdout",
     "output_type": "stream",
     "text": [
      "HELLO! I'M JUST A COMPUTER PROGRAM, SO I DON'T HAVE FEELINGS, BUT I'M HERE AND READY TO HELP YOU. HOW CAN I ASSIST YOU TODAY?\n"
     ]
    }
   ],
   "source": [
    "# ====================================================\n",
    "# 任意の関数をRunnableにする\n",
    "# ====================================================\n",
    "from langchain_core.output_parsers import StrOutputParser\n",
    "from langchain_core.prompts import ChatPromptTemplate\n",
    "from langchain_core.runnables import RunnableLambda\n",
    "from langchain_openai import ChatOpenAI\n",
    "\n",
    "prompt = ChatPromptTemplate.from_messages([(\"system\", \"You are a helpful assistant.\"), (\"human\", \"{input}\")])\n",
    "\n",
    "model = ChatOpenAI(model=\"gpt-4o-mini\", temperature=0)\n",
    "\n",
    "output_parser = StrOutputParser()\n",
    "\n",
    "\n",
    "def uppercase(text: str) -> str:\n",
    "    return text.upper()\n",
    "\n",
    "\n",
    "chain = prompt | model | output_parser | RunnableLambda(uppercase)\n",
    "\n",
    "output = chain.invoke({\"input\": \"Hello, how are you?\"})\n",
    "\n",
    "print(output)\n"
   ]
  },
  {
   "cell_type": "code",
   "execution_count": 11,
   "metadata": {},
   "outputs": [
    {
     "name": "stdout",
     "output_type": "stream",
     "text": [
      "HELLO! I'M JUST A COMPUTER PROGRAM, SO I DON'T HAVE FEELINGS, BUT I'M HERE AND READY TO HELP YOU. HOW CAN I ASSIST YOU TODAY?\n"
     ]
    }
   ],
   "source": [
    "# RunnableLambdaの自動変換(そのまま連鎖させてあげると自動で変換される)\n",
    "def uppercase(text: str) -> str:\n",
    "    return text.upper()\n",
    "\n",
    "\n",
    "chain = prompt | model | output_parser | uppercase\n",
    "\n",
    "output = chain.invoke({\"input\": \"Hello, how are you?\"})\n",
    "print(output)\n"
   ]
  },
  {
   "cell_type": "code",
   "execution_count": 14,
   "metadata": {},
   "outputs": [
    {
     "name": "stdout",
     "output_type": "stream",
     "text": [
      "HELLO! I'M JUST A COMPUTER PROGRAM, SO I DON'T HAVE FEELINGS, BUT I'M HERE AND READY TO HELP YOU. HOW CAN I ASSIST YOU TODAY?"
     ]
    }
   ],
   "source": [
    "# 独自関数をstreamに対応させたい場合\n",
    "from collections.abc import Iterator\n",
    "\n",
    "\n",
    "def uppercase_stream(input_stream: Iterator[str]) -> Iterator[str]:\n",
    "    for text in input_stream:\n",
    "        yield text.upper()\n",
    "\n",
    "\n",
    "chain = prompt | model | output_parser | uppercase_stream\n",
    "\n",
    "for chunk in chain.stream({\"input\": \"Hello, how are you?\"}):\n",
    "    print(chunk, end=\"\", flush=True)\n"
   ]
  },
  {
   "cell_type": "code",
   "execution_count": 16,
   "metadata": {},
   "outputs": [
    {
     "name": "stdout",
     "output_type": "stream",
     "text": [
      "{'optimistic_opinion': '生成AIの進化は本当に素晴らしいですね！私たちの生活をより便利に、楽しくしてくれる可能性が無限大です。例えば、クリエイティブなプロジェクトやアイデアのインスピレーションを得る手助けをしてくれたり、教育や医療の分野でも革新をもたらしています。これからも進化を続けることで、私たちの想像を超えるような新しい体験や解決策が生まれるでしょう。未来は明るく、ワクワクすることがたくさん待っていますよ！',\n",
      " 'pessimistic_opinion': '生成AIの進化は確かに目覚ましいものがありますが、その一方で多くの懸念も伴っています。技術が進化することで、私たちの仕事が奪われたり、情報の信頼性が低下したりするリスクが高まっています。さらに、AIが生成するコンテンツが人間の創造性を脅かし、私たちの思考や感情に悪影響を及ぼす可能性もあります。結局のところ、便利さの裏には常に不安がつきまとい、私たちの未来はますます不透明になっていくのではないでしょうか。'}\n"
     ]
    }
   ],
   "source": [
    "# ====================================================\n",
    "# 複数のRunnableを並列につなげる\n",
    "# ====================================================\n",
    "import pprint\n",
    "\n",
    "from langchain_core.output_parsers import StrOutputParser\n",
    "from langchain_core.prompts import ChatPromptTemplate\n",
    "from langchain_core.runnables import RunnableParallel\n",
    "from langchain_openai import ChatOpenAI\n",
    "\n",
    "model = ChatOpenAI(model=\"gpt-4o-mini\", temperature=0)\n",
    "output_parser = StrOutputParser()\n",
    "\n",
    "optimistic_prompt = ChatPromptTemplate.from_messages(\n",
    "    [\n",
    "        (\"system\", \"あなたは超楽観主義者です。ユーザーの入力に対して超楽観的な意見をください。\"),\n",
    "        (\"human\", \"{input}\"),\n",
    "    ]\n",
    ")\n",
    "optimistic_chain = optimistic_prompt | model | output_parser\n",
    "\n",
    "pessimistic_prompt = ChatPromptTemplate.from_messages(\n",
    "    [\n",
    "        (\"system\", \"あなたは悲観主義者です。ユーザーの入力に対して悲観的な意見をください。\"),\n",
    "        (\"human\", \"{input}\"),\n",
    "    ]\n",
    ")\n",
    "pessimistic_chain = pessimistic_prompt | model | output_parser\n",
    "\n",
    "parallel_chain = RunnableParallel(\n",
    "    {\n",
    "        \"optimistic_opinion\": optimistic_chain,\n",
    "        \"pessimistic_opinion\": pessimistic_chain,\n",
    "    }\n",
    ")\n",
    "\n",
    "pprint.pprint(parallel_chain.invoke({\"input\": \"生成AIの進化について\"}))\n"
   ]
  },
  {
   "cell_type": "code",
   "execution_count": 19,
   "metadata": {},
   "outputs": [
    {
     "name": "stdout",
     "output_type": "stream",
     "text": [
      "生成AIの進化には、便利さや創造性の向上といった楽観的な側面がある一方で、仕事の喪失や情報の信頼性の低下といった悲観的な懸念も存在します。楽観的な意見では、生成AIが私たちの生活を豊かにし、新しいアイデアや視点を提供することで、より有意義な時間を過ごせる可能性が強調されています。しかし、悲観的な意見では、技術の進化がもたらすリスクや、AIが人間の創造性や思考に与える影響についての懸念が示されています。このように、生成AIの進化は、期待と不安が交錯する複雑な状況を生み出していると言えるでしょう。"
     ]
    }
   ],
   "source": [
    "# RunnableParallelの出力をRunnableの入力に連結する\n",
    "syntesize_prompt = ChatPromptTemplate.from_messages(\n",
    "    [\n",
    "        (\"system\", \"あなたは至極客観的なAIです。2つの意見をまとめてください。\"),\n",
    "        (\"human\", \"楽観的な意見: {optimistic_opinion}\\n悲観的な意見: {pessimistic_opinion}\"),\n",
    "    ]\n",
    ")\n",
    "\n",
    "syntesize_chain = (\n",
    "    RunnableParallel(\n",
    "        {\n",
    "            \"optimistic_opinion\": optimistic_chain,\n",
    "            \"pessimistic_opinion\": pessimistic_chain,\n",
    "        }\n",
    "    )\n",
    "    | syntesize_prompt\n",
    "    | model\n",
    "    | output_parser\n",
    ")\n",
    "\n",
    "for chunk in syntesize_chain.stream({\"input\": \"生成AIの進化について\"}):\n",
    "    print(chunk, end=\"\", flush=True)\n"
   ]
  },
  {
   "cell_type": "code",
   "execution_count": 20,
   "metadata": {},
   "outputs": [
    {
     "name": "stdout",
     "output_type": "stream",
     "text": [
      "生成AIの進化については、楽観的な意見と悲観的な意見が存在します。楽観的な意見では、生成AIが私たちの生活を便利で楽しいものにし、創造性を引き出す新しいアイデアやアートを生み出す可能性が強調されています。教育、医療、エンターテインメントなどの分野での活用が進むことで、私たちの世界が豊かになることへの期待が表れています。\n",
      "\n",
      "一方で、悲観的な意見では、生成AIの進化に伴うリスクが指摘されています。仕事の喪失や情報の信頼性の低下、AIによるコンテンツ生成が人間の創造性を脅かす可能性が懸念されています。便利さの裏には不安があり、未来が不透明になることへの警戒が示されています。\n",
      "\n",
      "このように、生成AIの進化には多くの可能性と同時にリスクが存在し、私たちはその両面を理解しながら技術の進展に向き合う必要があります。"
     ]
    }
   ],
   "source": [
    "# RunnableParallelへの自動変換(辞書を連結すると自動でRunnableParallelに変換される)\n",
    "syntesize_chain = (\n",
    "    {\n",
    "        \"optimistic_opinion\": optimistic_chain,\n",
    "        \"pessimistic_opinion\": pessimistic_chain,\n",
    "    }\n",
    "    | syntesize_prompt\n",
    "    | model\n",
    "    | output_parser\n",
    ")\n",
    "\n",
    "for chunk in syntesize_chain.stream({\"input\": \"生成AIの進化について\"}):\n",
    "    print(chunk, end=\"\", flush=True)\n"
   ]
  },
  {
   "cell_type": "code",
   "execution_count": 23,
   "metadata": {},
   "outputs": [
    {
     "name": "stdout",
     "output_type": "stream",
     "text": [
      "生成AIの進化について\n"
     ]
    }
   ],
   "source": [
    "# itemgetterを使う例\n",
    "from operator import itemgetter\n",
    "\n",
    "# itemgetterの使い方を簡単に紹介\n",
    "topic_getter = itemgetter(\"topic\")\n",
    "topic = topic_getter({\"topic\": \"生成AIの進化について\"})\n",
    "print(topic)\n"
   ]
  },
  {
   "cell_type": "code",
   "execution_count": 26,
   "metadata": {},
   "outputs": [
    {
     "name": "stdout",
     "output_type": "stream",
     "text": [
      "**楽観的な意見:** 生成AIの進化は、私たちの生活をより便利で楽しいものにする可能性を秘めています。クリエイティブなプロジェクトやアイデアのインスピレーションを得るための強力なツールとして活用でき、教育や医療の分野でも革新的な変化をもたらすでしょう。未来において、生成AIが私たちの想像を超える成果を生み出すことを期待し、新しい技術が進化することで生活が豊かになることを楽しみにしています。\n",
      "\n",
      "**悲観的な意見:** 生成AIの進化には多くの懸念が伴います。技術の進化により、仕事が奪われたり、情報の信頼性が低下するリスクが高まります。また、AIが生成するコンテンツの氾濫により、オリジナリティやクリエイティビティが失われる可能性もあります。便利さの裏には常に代償があり、この技術をどのように扱うかが重要ですが、その管理がうまくいくかどうかは疑問です。"
     ]
    }
   ],
   "source": [
    "# itemgetterを使ってpromptの穴埋めをする\n",
    "\n",
    "syntesize_prompt = ChatPromptTemplate.from_messages(\n",
    "    [\n",
    "        (\"system\", \"あなたは至極客観的なAIです。{input}について2つの意見をまとめてください。\"),\n",
    "        (\"human\", \"楽観的な意見: {optimistic_opinion}\\n悲観的な意見: {pessimistic_opinion}\"),\n",
    "    ]\n",
    ")\n",
    "\n",
    "syntesize_chain = (\n",
    "    {\n",
    "        \"input\": itemgetter(\"input\"),  # 自動でRunnableLambdaに変換される\n",
    "        \"optimistic_opinion\": optimistic_chain,\n",
    "        \"pessimistic_opinion\": pessimistic_chain,\n",
    "    }\n",
    "    | syntesize_prompt\n",
    "    | model\n",
    "    | output_parser\n",
    ")\n",
    "\n",
    "for chunk in syntesize_chain.stream({\"input\": \"生成AIの進化について\"}):\n",
    "    print(chunk, end=\"\", flush=True)\n"
   ]
  },
  {
   "cell_type": "code",
   "execution_count": 15,
   "metadata": {},
   "outputs": [
    {
     "name": "stdout",
     "output_type": "stream",
     "text": [
      "2024年のM-1グランプリの優勝者は「令和ロマン」です。彼らは史上初の連覇を達成しました。\n"
     ]
    }
   ],
   "source": [
    "# ====================================================\n",
    "# RunnablePassthrough-入力をそのまま出力する(RAGで良く使う)\n",
    "# ====================================================\n",
    "from langchain_community.retrievers import TavilySearchAPIRetriever\n",
    "from langchain_core.output_parsers import StrOutputParser\n",
    "from langchain_core.prompts import ChatPromptTemplate\n",
    "from langchain_core.runnables import RunnablePassthrough\n",
    "from langchain_openai import ChatOpenAI\n",
    "\n",
    "prompt = ChatPromptTemplate.from_template('''\n",
    "    以下の文脈だけを踏まえて質問に回答してください。\n",
    "    文脈：\"\"\"\n",
    "    {context}\n",
    "    \"\"\"\n",
    "\n",
    "    質問：\n",
    "    {question}\n",
    "    ''')\n",
    "\n",
    "model = ChatOpenAI(model=\"gpt-4o-mini\", temperature=0)\n",
    "\n",
    "retriever = TavilySearchAPIRetriever(\n",
    "    k=5,\n",
    "    search_depth=\"advanced\",\n",
    "    include_answer=True,\n",
    ")\n",
    "\n",
    "chain = {\"context\": retriever, \"question\": RunnablePassthrough()} | prompt | model | StrOutputParser()\n",
    "\n",
    "output = chain.invoke(\"2024年のM-1グランプリの優勝者は？\")\n",
    "print(output)\n"
   ]
  },
  {
   "cell_type": "code",
   "execution_count": 18,
   "metadata": {},
   "outputs": [
    {
     "name": "stdout",
     "output_type": "stream",
     "text": [
      "{'answer': '2025年1月1日時点での日本の総理大臣は石破茂氏です。',\n",
      " 'context': [Document(metadata={'title': '2025年、石破首相に立ちはだかる3つの壁 36年前の悪夢とは…「ポスト石破」は誰？（2025年1月2日掲載）｜日テレnews Nnn', 'source': 'https://news.ntv.co.jp/category/politics/4731f536a40e4dec825d82372baabf19', 'score': 0.81875163, 'images': []}, page_content='2025年、石破首相に立ちはだかる3つの壁\\u300036年前の悪夢とは…「ポスト石破」は誰？（2025年1月1日掲載）｜日テレNEWS NNN 日テレNEWS NNN 政治 2025年、石破首相に立ちはだかる3つの壁\\u300036年前の悪夢とは…「ポスト石破」は誰？ 政治 2025年、石破首相に立ちはだかる3つの壁\\u300036年前の悪夢とは…「ポスト石破」は誰？ ポスト 送る シェア ブックマーク URLをコピー 2025年1月1日 22:00 2024年10月1日、総理大臣に指名された石破茂氏。総裁選挙はなんと5度目の挑戦。 衆議院選挙で与党過半数割れに追い込まれた石破政権。2025年の通常国会では、最重要課題の予算成立に向け野党の協力を得るメドは立ってない。“12年に一度”の東京都議選と参院選がともに行われる年に、石破首相に立ちはだかる3つの壁とポスト石破について解説する。（政治部 自民党担当\\u3000長谷栞里） ■第1の壁 2025年度予算\\u3000“野党の協力”が必須 自民・公明が過半数の議席を得られず“少数与党”となり「国会の景色が一変した」永田町。衆議院予算委員会の委員長など、重要ポストが野党の手に渡る中、2025年は与党にとってさらに苦しい場面が続くことが予想される。   国会で審議される予算案や法案は基本的に衆議院・参議院で“過半数の賛成”で可決されて初めて成立する。つまり、現状の与党の衆議院の議席数では、野党にも賛成してもらわない限り、2025年度の本予算案が成立させられないのだ。   2024年、少数与党になって初めての臨時国会では「補正予算」を成立させるために、与党は野党の協力を取り付けるために奔走することになった。 ■国民民主と維新“両にらみ”で協議 自民・公明・国民民主の政調会長が、国民の看板政策「103万円の壁見直し」を取り入れ経済対策に盛り込むことで合意（2024年11月） 衆院選で大きく議席を伸ばした国民民主党の“看板政策”である「103万円の壁見直し」を取り入れ、日本維新の会とは「教育無償化についての協議開始」で合意。野党2党の賛成を取り付けたことで、何とか補正予算の成立にこぎつけた。   だが、2025年の通常国会では野党から本予算案の賛成を取り付けるメドや道筋は立っていない。国民民主は103万円の壁を「178万円」にすることを求めて、自民・公明を引き続き揺さぶり続けている。また維新も党内が一枚岩ではなく、教育無償化の協議を通じて与党との距離が近づくことへの反発が出ている。   夏には参議院選挙を控える中、国民民主・維新とともに与党に接近し過ぎることは選挙にマイナスとなりかねず、予算賛成へのハードルは高いと言わざるを得ない。   仮に政府・与党が予算を成立させられないと新年度から政策が実行できなくなり、政府の機能が停止するおそれもある。そのため、政府・与党内からは「予算の成立と引き換えに、石破首相は退陣に追い込まれるのではないか」との見方も出ている。 ■第2の壁 “内閣不信任案”\\u3000可決が現実のものに？ ■第3の壁 “12年に一度”のダブル選挙 【特集】「国家プロジェクトになる」 新潟～上越地域の高速鉄道計画は動き出すか 背景には羽越新幹線の構想も 《新潟》 ---------------------------------------------------------  9:032025年問題～5人に1人が75歳以上～介護職員増やせ！ 職員が被写体になり、自らの言葉で魅力を発信 --------------------------------------------------  1:00中国サプライズ“短期ビザ免除”舞台裏…石破首相への期待と日中関係の行方 -----------------------------------  4:00まもなくアメリカ新政権誕生 「台湾有事」への影響は…“トランプ2.0”に身構える台湾 ------------------------------------------  6:00【解明】人気テーマパーク「USJ」の次なる戦略は？「ドンキー」「コナン」海外客にも人気のワケ ----------------------------------------------  5:008:24 「タキビスト」“揺らめく炎”と“薪が燃える音” 火を囲む癒しの魅力を広める夫婦《長崎》 -------------------------------------------  1月2日 22:00 【県政世論調査】力を入れてほしい政策で地震防災対策や子育て支援が増加 ----------------------------------  7:47今年は県内5自治体で首長選の見通し 上野原市長選は2月実施 夏には参院選も 山梨 ----------------------------------------  3:46【特集】“総理をねらう男”河村たかし「激動の１年」 2025年は「名古屋の夢を叶えていくだがね。楽しみに待っとってちょー」 -------------------------------------------------------------  1月1日0:38 愛知・常滑市の養鶏場 高病原性鳥インフルエンザの感染疑い 県内では今シーズン初めてか ------------------------------------------  1月1日2025年、石破首相に立ちはだかる3つの壁 36年前の悪夢とは…「ポスト石破」は誰？ ------------------------------------------  1月1日0:44 三重・伊勢神宮 ２０年に一度の式年遷宮に向け 準備を取り仕切る「式年造営庁」を発足 -----------------------------------------  1月1日 1 2025年、石破首相に立ちはだかる3つの壁 36年前の悪夢とは…「ポスト石破」は誰？  1月1日2 立憲・小沢氏 野党の結集訴える「国民が意を決したのに…」  1月1日3 0:38 愛知・常滑市の養鶏場 高病原性鳥インフルエンザの感染疑い 県内では今シーズン初めてか  1月1日4 石破首相「世界一の防災大国に」 能登地震・豪雨の犠牲者追悼式  1月1日5 【特集】“総理をねらう男”河村たかし「激動の１年」 2025年は「名古屋の夢を叶えていくだがね。楽しみに待っとってちょー」  1月1日 © Nippon Television Network Corporation 映像協力 NNN(Nippon News Network) © Nippon Television Network Corporation 映像協力 NNN(Nippon News Network)'),\n",
      "             Document(metadata={'title': '【石破総理 新春インタビュー】政治の大転換期、新たな農業政策へ どう一歩踏み出すか（1）｜JAcom 農業協同組合新聞', 'source': 'https://www.jacom.or.jp/nousei/closeup/2025/250101-78639.php', 'score': 0.73459625, 'images': []}, page_content='【石破総理\\u3000新春インタビュー】政治の大転換期、新たな農業政策へ\\u3000どう一歩踏み出すか（1）｜JAcom 農業協同組合新聞 JAcom 2025年1月7日(火) 農政 農政 クローズアップ > 一覧へ*   農政 > 一覧へ 【石破総理\\u3000新春インタビュー】政治の大転換期、新たな農業政策へ\\u3000どう一歩踏み出すか（1）2025年1月1日 一覧へ Tweet  【石破総理 新春インタビュー】政治の大転換期、新たな農業政策へ どう一歩踏み出すか（2） 【石破総理 新春インタビュー】政治の大転換期、新たな農業政策へ どう一歩踏み出すか（3） 【石破総理 新春インタビュー】政治の大転換期、新たな農業政策へ どう一歩踏み出すか（4） 【2025年本紙新年号】石破総理インタビュー 元日に掲載 「どうする？ この国の進路」12月20日 更新 【2024年を振り返る】揺れた国の基 食と農を憂う（1）能登被災 支援途切れなく ＪＡ松本ハイランド組合長 田中均氏12月20日 更新 2月4日に新春の集い 袴田ひで子さん、むすびえ・湯浅誠理事長、伊那食品工業・塚越寛最高顧問が講演12月25日 更新 一覧へ 鹿児島県で鳥インフルエンザ 国内21例目 年明けから5例発生 早期通報を 2025年1月7日 コメ政策大転換の年【熊野孝文・米マーケット情報】 2025年1月7日 【人事異動】井関農機（1月1日付） 2025年1月7日 【年頭あいさつ 2025】大信政一 パルシステム生活協同組合連合会 代表理事理事長 2025年1月7日 大田市場初競り 山形県産さくらんぼ「佐藤錦」過去最高値150万円で落札 船昌 2025年1月7日 YOU、MEGUMIの新CM「カラダの変わり目に、食べ過ぎちゃう」篇オンエア 雪印メグミルク 2025年1月7日 冬の買い物応援キャンペーン Web加入で手数料が最大20週無料 パルシステム 2025年1月7日 世界に広がる日本固有品種「甲州」ワインを知るテイスティングイベント開催 2025年1月7日 愛知県半田市「ポケットマルシェ」で農産品が送料無料 2025年1月7日 農政 農政 食と農めぐり広がる協同 ＪＡぎふ岩佐組合長講演 新世紀ＪＡ研究会 Z-GIS Z-GIS 鹿児島県で鳥インフルエンザ 国内21例目 年明けから5例発生 早期通報を 2025年1月7日 農業犠牲の世情 あってはならない地域喪失 歌人・時田則雄【2025国際協同組合年 どうする・この国の進路】 2025年1月7日 協同組合振興研究議員連盟に国会決議を要請 ＩＹＣ全国実行委員会 2024年12月27日 2025国際協同組合年全国実行委員会がＳＮＳで情報発信 2024年12月27日 国際協同組合年全国実行委員会が代表・副代表の年始あいさつ動画を提供 2024年12月26日 コメ政策大転換の年【熊野孝文・米マーケット情報】 2025年1月7日 輸入米「争奪戦」過熱 SBS入札で7年ぶり完売 業務用で引き合い強く小売にも 2024年12月25日 多収穫米への関心が高まった業務用米セミナー【熊野孝文・米マーケット情報】 2024年12月24日 【特殊報】キュウリ退緑黄化病 県内で初確認 タバココナジラミの防除徹底を 福島県 2024年12月24日 煽らぬよう自制したがジレンマも コメ不足報道検証すると 佐藤庸介NHK解説委員 2024年12月9日 Tweets by JAcom_nokyo 農政 〒103-0013\\xa0東京都中央区日本橋人形町3-1-15 藤野ビル info@jacom.or.jp'),\n",
      "             Document(metadata={'title': '石破総理大臣 年頭記者会見\"野党と議論尽くし 政権運営\"防災 外交 社会保障 経済 2025年の抱負は | Nhk', 'source': 'https://www3.nhk.or.jp/news/html/20250106/k10014685671000.html', 'score': 0.6889923, 'images': []}, page_content='石破総理大臣 年頭記者会見“野党と議論尽くし 政権運営”防災 外交 社会保障 経済 2025年の抱負は | NHK NHK NHKについて コロナ・感染症 ニュース 番組表 NHKプラス 受信料の窓口 NHKオンライン ニュース 放送予定 検索 番組表 番組表 コロナ・感染症 コロナ・感染症 NHKについて NHKについて コロナ・感染症 コロナ・感染症 ニュース ニュース 番組表 番組表 NHKプラス NHKプラス 受信料の窓口 受信料の窓口 スポーツ 天気 防災 健康 ハートネット ドラマ 映画 アニメ ミュージック ラジオ BS放送 ラーニング 語学 for School 高校講座 キッズ WORLD アーカイブス NHK_PR NHKスペシャル イベント観覧募集 ご意見・お問い合わせ 受信料の窓口 BSメッセージの消去 NHKオンデマンド テキスト版 石破総理大臣 “野党と議論尽くし 政権運営”年頭記者会見 2025年1月6日 15時44分 石破総理大臣は、年頭の記者会見で、自民・公明両党が少数与党となる中「責任与党」として野党と議論を尽くし、政権運営にあたる考えを強調しました。また、選挙制度のあり方や年金制度改革を含む社会保障制度について各党で協議したいという意向を示しました。 （会見動画 37分36秒 データ放送ではご覧になれません） 石破総理大臣は、年頭にあたって6日、三重県伊勢市の伊勢神宮に参拝したあと記者会見しました。   《政権運営》 この中で、石破総理大臣は、自民・公明両党の少数与党での政権運営について「国政を預かる立場から現在と次の世代の国民に対して責任を持つ『責任与党』でなければならない」と述べました。   その上で「野党にもこれまで以上に責任を共有していただくことが求められ、それぞれが責任ある立場で議論を尽くし、国民の納得と共感が得られるよう努めることが必要だ」と強調しました。   《政治改革》 また、政治改革をめぐっては、立憲民主党などが禁止を求めている企業・団体献金について、真摯に（しんし）議論を行い、ことし3月末までに結論が得られるよう努める考えを示しました。   そして「問題の本質は、民主主義のコストは誰が負担するのかということだ。政党や政治団体としての規律のあり方をどう考え、その規律をどう担保していくか、与野党の枠を超えて議論を深めていきたい」と述べました。   《選挙制度のあり方》 さらに、去年、選挙運動中に妨害行為があったことなどを念頭に「想定されなかったことが起き始めているが、民主主義とは、多くの意見が健全な言論の場で戦わされてこそ成り立つものだ」と指摘しました。   その上で「重要なことは、有権者に判断材料が正しく提供されることであり、それに基づいて、より幅広い世代のより多くの民意が政治に適切に反映されることだ」と述べ、選挙制度のあり方について各党で議論したいという意向を示しました。   《地方創生》 地方創生については「『令和の日本列島改造』と位置づけて、強力に推し進め、一極集中を見直し、多様性を未来への力としていく。『これを成功させなければ日本に将来はない』という危機感を強く持って進めていく」と強調しました。   そして▽地方から改めて提案を募り、政府機関の地方移転を進めるほか▽新たな人の流れを生み出すことにつなげるため、まずは、若手の国家公務員が2つの地域を拠点に生活することを支援する制度を新設する考えを明らかにしました。   《経済政策》 経済政策をめぐっては「『コストカット型の経済』から『高付加価値創出型の経済』に移行することで『賃上げと投資がけん引する成長型経済』を実現する」と述べました。   さらに、デフレ経済のもと企業の配当や海外投資は増える一方、国内投資や賃金は伸び悩んできたとして、企業の成長分野への投資を促す環境整備を進めていく考えを示しました。   《社会保障政策》 社会保障政策をめぐっては、持続可能性の維持・強化が重要だと指摘し、▽「全世代型社会保障」の構築や▽高齢者や子育て世帯など誰もが支え合う「地域共生社会」の実現などに取り組む方針を示しました。   その上で「特に長期にわたり運営する年金制度は与党も野党もなく合意を探ることが求められるため、まず、年金制度改革案から、各党による建設的な議論が行われることを期待する」と述べました。   《防災分野》 防災分野では、能登半島地震から1年となることに触れ「災害の発生を防ぐことはできないが平時の備えによって被害の最少化を図るとともに被災者に尊厳ある避難生活を営んでもらえる環境を迅速に提供することは国家の責務だ」と述べました。   その上で、▽「防災庁」の設置準備を加速するとともに▽首都直下地震や南海トラフ地震などへの備えに加え、▽日本の災害対策技術の海外への発信といった取り組みを強化していくと説明しました。   《外交・安全保障》 外交・安全保障をめぐっては「わが国の平和と安全、人々の暮らしを守り抜く基本は十分な抑止力を確保しつつ関係国との対話を重ねていくことだ」と述べ、▽日米同盟のさらなる強化や、▽対話による関係国との信頼関係の構築、それに▽自衛官の処遇改善などに取り組む考えを示しました。   《抱負》 そして、ことしの干支（えと）の「へび」にちなみ「へびは脱皮を繰り返し大きくなっていくことから再生や進化の年とも言われている。平和と安全・安心を大前提とした『楽しい日本』、活力ある日本を国民とともにつくり上げていく年にしたい」と抱負を語りました。 野党との連立 衆参同日選挙は 少数与党での政権運営をめぐり、野党との連立は選択肢かと問われ「野党の賛成を得なければ法案も予算案も通すことができない。誠心誠意説明し多くの国民に『もっともだ』と思っていただかなければ野党に賛成してもらえるとは思っていない。今の時点で野党との連立政権を考えているわけではないし、大連立を考えているわけでもない」と述べました。   一方、夏の参議院選挙にあわせた「衆参同日選挙」を行うかどうかを質問されたのに対しては「内閣不信任決議案が可決されるか、信任決議案が否決されたときは解散しないかぎり総辞職しなければならないというのが憲法の規定だ。衆議院の意思と内閣の考えが違ったときに主権者の判断をいただくことは憲政の常道であり、判断をするのは主権者たる国民だ」と述べました。 トランプ次期大統領との会談「最もふさわしい時期に」 石破総理大臣は、アメリカのトランプ次期大統領との会談について「現在まだ確定はしていない。最もふさわしい時期にふさわしい形で実現するよう調整している」と述べました。   その上で「中東やウクライナ、北東アジアの状況をどう認識するか、私はこの3つは密接に関係しそれぞれが独立して起きているわけではないと思っている。このようなことについて共通認識を持つことが重要だ」と述べました。 政治ニュース一覧へ戻る ページの先頭へ戻る NHK NHKについて ご意見・お問い合わせ プライバシーセンター プライバシーポリシー NHK一般サイト プライバシーノーティス （パーソナルデータの取り扱い） Copyright NHK (Japan Broadcasting Corporation).'),\n",
      "             Document(metadata={'title': 'どうなる？2025年の政治 「大連立」実現の可能性は（テレビ朝日系（ANN）） - Yahoo!ニュース', 'source': 'https://news.yahoo.co.jp/articles/b6dbc1d4d65da58021e1c17b841e18f0b17cffdf', 'score': 0.6279746, 'images': []}, page_content='どうなる？2025年の政治 「大連立」実現の可能性は（テレビ朝日系（ANN）） - Yahoo!ニュース Yahoo!ニュース マイページ 購入履歴 トップ 速報 ライブ エキスパート オリジナル みんなの意見 ランキング 有料 主要 国内 国際 経済 エンタメ スポーツ 科学 ライフ 地域 トピックス一覧 どうなる？2025年の政治 「大連立」実現の可能性は 1/6(月) 20:48配信 コメント10件 どうなる？2025年の政治 「大連立」実現の可能性は 国内外に「多くの壁」が立ちはだかっている石破総理。この一年、政治の世界はどう動いていくのでしょうか。官邸キャップが解説します。 【画像】石破政権の生命線とは? テレビ朝日政治部・官邸キャップが解説 ■“ザワつく永田町”大連立の可能性は? 石破総理大臣\\u3000 「第3の日本、すなわち一人一人が実現する楽しい日本。これを国民の皆様方と共につくり上げていきたいと考えております」 \\u3000そんな願いを込めて参拝したのか、新年恒例のお伊勢参り。6日に雨の中、石破総理は三重県伊勢市の伊勢神宮を参拝しました。 \\u3000参拝を終え地元のボーイスカウトやガールスカウトに所属する子どもたちから花束を受け取り、一緒に記念撮影をした石破総理。子どもたち一人一人と握手。恥ずかしいのか手を出そうとしない子や、手に息を吹きかける子の姿も見られました。 \\u30002025年、今年最大の政治イベントは7月中に想定される参議院選挙です。 公明党\\u3000斉藤代表\\u3000 「今年は12年に1度、巳年。参議院選挙と都議会議員選挙が重なる年でもございます」 \\u3000今年は、4年ごとに行われる東京都議会議員選挙と3年ごとに行われる参議院選挙が重なる12年に一度の年。 \\u3000さらに、石破総理は年末から年始にかけて、「衆参同日選挙もありうる」との認識を示したり、野党との大連立について「選択肢にある」と話したりと、永田町をザワつかせています。 立憲民主党\\u3000野田代表\\u3000 「大連立を組む環境ではないですよね。少数与党に陥っているから、多分、苦し紛れの発言。抱きついてきたのかなと思いますけども。そうじゃなくて、むしろ自民党に下野をさせて、政治の流れを変えていくということが、我々が目指すべき本道だと思っていますので」 国民民主党\\u3000榛葉幹事長\\u3000 「突然、大連立を言ってみたり、あまり新年早々、言葉遊びをされない方がいいんじゃないですか」 \\u3000野党各党は与党との大連立に否定的な考えを示す中、6日に改めて大連立についてこう話しました。 石破総理大臣\\u3000 「今の時点で連立を考えているわけではございません。大連立を考えているわけでもございません。昨年末、私はそのようなことを一回も言ったことがない。『そういう可能性はありますよね』と申し上げたのであって、それは何のためにということが明らかにならなければ、それは意味のないことだと思っております」 次ページは：■官邸キャップが分析 石破政権の“生命線”とは 最終更新:1/6(月) 20:48 1 お釣りの千円札「なんかサイズ違うんだけどwwww」 なぜこんなことが起きたのか...国立印刷局の見解は J-CASTニュース1/6(月)18:37  2 中国、呼吸器感染症が拡大 インドでも確認、ベトナムは注視 共同通信1/6(月)19:01  3 インフルエンザのピーク前倒しで「B型」早くも増加傾向に おう吐など消化器系に症状【ひるおび】 TBS NEWS DIG Powered by JNN1/7(火)14:51  4 福島県、茨城県、栃木県、埼玉県、千葉県、東京都、神奈川県で最大震度2の地震 福島県・古殿町、双葉町 TBS NEWS DIG Powered by JNN1/7(火)17:38  5 「腸外科のあの医者、死ね」千葉大学医学部付属病院の看護師が不適切な医療行為をSNS投稿か?病院が内部調査 FNNプライムオンライン（フジテレビ系）1/7(火)17:43  1 飲んでないのに「酒気帯び」、朝食の定番で『呼気からアルコール分』も Forbes JAPAN1/7(火)15:15  2 「天皇の叔父になるから、カネを集めやすくなる」 紀子さま弟が取締役を務めていた会社の金銭トラブル… その後辞任も「“もう辞めたから”は通用しない」の声 デイリー新潮1/7(火)6:06  3 愛子さま（23）遅刻連発で迫る“母娘シンクロ”の悪夢 「公務選り好み」にも心配の声が… 文春オンライン1/6(月)6:12  4 信子さま 義母・百合子さまの五十日祭にも参列されず…弔問も“玄関払い”で終わりの見えない「三笠宮家の確執」 女性自身1/7(火)17:35  5 中国人が尖閣諸島に押し寄せても防げない…日本固有の領土が3カ国に脅かされている根本原因 プレジデントオンライン1/7(火)16:17  _news HACK_Yahoo!ニュースのオウンドメディア Copyright © 2025 All Nippon News Network(ANN) 無断転載を禁じます。 © LY Corporation'),\n",
      "             Document(metadata={'title': '内閣総理大臣の一覧 - Wikipedia', 'source': 'https://ja.wikipedia.org/wiki/内閣総理大臣の一覧', 'score': 0.5900477, 'images': []}, page_content='編集 内閣総理大臣の一覧[編集] 代   人数  内閣総理大臣  肖像  内閣  在任期間    備考  出典 - 1889年12月24日   (60日)   －  - 1901年6月2日 (23日)   －   内閣総理大臣臨時兼任（枢密院議長）[注 4] - 1921年11月13日   (9日)    －  25  15  第1次若槻内閣 1926年1月30日 (1930年11月14日 - 1931年3月9日) - 1932年5月16日[注 5]   156日    156日   (1936年2月26日 - 2月29日) 39  第3次近衞内閣 1941年7月18日 1949年2月16日 50  第4次吉田内閣 1952年10月30日 51  第5次吉田内閣 1953年5月21日 53  第2次鳩山内閣 1955年3月19日 54  第3次鳩山内閣 1955年11月22日 1957年2月25日 1958年6月12日 1960年12月8日 1963年12月9日 1964年11月9日 1967年2月17日 1970年1月14日 1972年12月22日 1974年12月9日 67  42  福田赳夫ふくだ たけお     福田内閣 1976年12月24日 69  第2次大平内閣 1979年11月9日 - 1980年7月17日    (35日)   －  1980年7月17日 1983年12月27日 73  第3次中曾根内閣    1986年7月22日 1987年11月6日 1990年2月28日 1991年11月5日 1994年6月30日 1996年11月7日 1998年7月30日 病気のため辞任[注 19] - 2000年4月5日 （3日）    －  2000年7月4日 2001年4月26日 2003年11月19日 2005年9月21日 2006年9月26日 2007年9月26日 2010年6月8日 2011年9月2日 2012年12月26日 2014年12月24日 2017年11月1日 2021年11月10日 2024年11月11日 出典[編集] コトバンク. コトバンク. コトバンク. コトバンク. コトバンク. コトバンク. コトバンク. コトバンク. 日本経済新聞 (2021年12月25日). 日本経済新聞 (2021年6月11日).')],\n",
      " 'question': '2025年1月1日時点での日本の総理大臣は？'}\n"
     ]
    }
   ],
   "source": [
    "# assignを使ってRunnableParallelの出力に値を追加する\n",
    "# プロンプトの穴埋めした結果を画面に表示したい場合など、Chainの中間の値をUI上に表示したい場合等にassignが役立つ\n",
    "import pprint\n",
    "\n",
    "# from langchain_core.runnables import RunnableParallel\n",
    "\n",
    "chain = {\n",
    "    \"question\": RunnablePassthrough(),\n",
    "    \"context\": retriever,\n",
    "} | RunnablePassthrough.assign(answer=prompt | model | StrOutputParser())\n",
    "\n",
    "# # RunnableParallelのassignメソッドを使うと次のようにも書ける\n",
    "# chain = RunnableParallel(\n",
    "#     {\n",
    "#         \"question\": RunnablePassthrough(),\n",
    "#         \"context\": retriever,\n",
    "#     }\n",
    "# ).assign(answer=prompt | model | StrOutputParser())\n",
    "\n",
    "output = chain.invoke(\"2025年1月1日時点での日本の総理大臣は？\")\n",
    "pprint.pprint(output)\n"
   ]
  },
  {
   "cell_type": "code",
   "execution_count": null,
   "metadata": {},
   "outputs": [],
   "source": []
  }
 ],
 "metadata": {
  "kernelspec": {
   "display_name": ".venv",
   "language": "python",
   "name": "python3"
  },
  "language_info": {
   "codemirror_mode": {
    "name": "ipython",
    "version": 3
   },
   "file_extension": ".py",
   "mimetype": "text/x-python",
   "name": "python",
   "nbconvert_exporter": "python",
   "pygments_lexer": "ipython3",
   "version": "3.10.16"
  }
 },
 "nbformat": 4,
 "nbformat_minor": 2
}
