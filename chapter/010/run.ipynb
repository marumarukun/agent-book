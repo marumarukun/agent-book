{
 "cells": [
  {
   "cell_type": "code",
   "execution_count": 1,
   "metadata": {},
   "outputs": [],
   "source": [
    "# ====================================================\n",
    "# import\n",
    "# ====================================================\n",
    "import operator\n",
    "from typing import Annotated, Any, Optional\n",
    "\n",
    "from dotenv import load_dotenv\n",
    "from pydantic import BaseModel, Field\n"
   ]
  },
  {
   "cell_type": "code",
   "execution_count": 7,
   "metadata": {},
   "outputs": [],
   "source": [
    "# ====================================================\n",
    "# データ構造の定義\n",
    "# ====================================================\n",
    "\n",
    "# ペルソナを表すデータモデル\n",
    "class Persona(BaseModel):\n",
    "    name: str = Field(description=\"ペルソナの名前\")\n",
    "    background: str = Field(description=\"ペルソナの持つ背景\")\n",
    "\n",
    "\n",
    "# ペルソナのリストを表すデータモデル\n",
    "class Personas(BaseModel):\n",
    "    personas: list[Persona] = Field(default_factory=list, description=\"ペルソナのリスト\")\n",
    "\n",
    "\n",
    "# インタビュー内容を表すデータモデル\n",
    "class Interview(BaseModel):\n",
    "    persona: Persona = Field(description=\"インタビュー対象のペルソナ\")\n",
    "    question: str = Field(description=\"インタビューでの質問\")\n",
    "    answer: str = Field(description=\"インタビューでの回答\")\n",
    "\n",
    "\n",
    "# インタビュー結果のリストを表すデータモデル\n",
    "class InterviewResult(BaseModel):\n",
    "    interviews: list[Interview] = Field(default_factory=list, description=\"インタビュー結果のリスト\")\n",
    "\n",
    "\n",
    "# 評価の結果を表すデータモデル\n",
    "class EvaluationResult(BaseModel):\n",
    "    reason: str = Field(description=\"判断の理由\")\n",
    "    is_sufficient: bool = Field(description=\"情報が十分かどうか\")\n"
   ]
  },
  {
   "cell_type": "code",
   "execution_count": null,
   "metadata": {},
   "outputs": [],
   "source": [
    "# 要件定義書AIエージェントのステート\n",
    "class InterviewState(BaseModel):\n",
    "    user_request: str = Field(description=\"ユーザーからのリクエスト\")\n",
    "    personas: Annotated[list[Persona], operator.add] = Field(\n",
    "        default_factory=list, description=\"生成されたペルソナのリスト\"\n",
    "    )\n",
    "    interviews: Annotated[list[Interview], operator.add] = Field(\n",
    "        default_factory=list, description=\"実施されたインタビューのリスト\"\n",
    "    )\n",
    "    requirements_doc: str = Field(default=\"\", description=\"生成された要件定義\")\n",
    "    iteration: int = Field(default=0, description=\"ペルソナ生成とインタビューの反復回数\")\n",
    "    is_information_sufficient: bool = Field(default=False, description=\"情報が十分かどうか\")\n"
   ]
  },
  {
   "cell_type": "code",
   "execution_count": null,
   "metadata": {},
   "outputs": [],
   "source": [
    "# ====================================================\n",
    "# 主要コンポーネントの実装\n",
    "# ====================================================\n",
    "\n"
   ]
  }
 ],
 "metadata": {
  "kernelspec": {
   "display_name": ".venv",
   "language": "python",
   "name": "python3"
  },
  "language_info": {
   "codemirror_mode": {
    "name": "ipython",
    "version": 3
   },
   "file_extension": ".py",
   "mimetype": "text/x-python",
   "name": "python",
   "nbconvert_exporter": "python",
   "pygments_lexer": "ipython3",
   "version": "3.10.16"
  }
 },
 "nbformat": 4,
 "nbformat_minor": 2
}
