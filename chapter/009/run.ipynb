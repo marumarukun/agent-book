{
 "cells": [
  {
   "cell_type": "markdown",
   "metadata": {},
   "source": [
    "# ハンズオン：Q＆A アプリケーション\n"
   ]
  },
  {
   "cell_type": "code",
   "execution_count": 1,
   "metadata": {},
   "outputs": [],
   "source": [
    "# ====================================================\n",
    "# ロールの定義\n",
    "# ====================================================\n",
    "ROLES = {\n",
    "    \"1\": {\n",
    "        \"name\": \"一般知識エキスパート\",\n",
    "        \"description\": \"幅広い分野の一般的な質問に答える\",\n",
    "        \"details\": \"幅広い分野の一般的な質問に対して、正確で分かりやすい回答を提供してください。\",\n",
    "    },\n",
    "    \"2\": {\n",
    "        \"name\": \"生成AI製品エキスパート\",\n",
    "        \"description\": \"生成AIや関連製品、技術に関する専門的な質問に答える\",\n",
    "        \"details\": \"生成AIや関連製品、技術に関する専門的な質問に対して、最新の情報と深い洞察を提供してください。\",\n",
    "    },\n",
    "    \"3\": {\n",
    "        \"name\": \"カウンセラー\",\n",
    "        \"description\": \"個人的な悩みや心理的な問題に対してサポートを提供する\",\n",
    "        \"details\": \"個人的な悩みや心理的な問題に対して、共感的で支援的な回答を提供し、可能であれば適切なアドバイスも行ってください。\",  # noqa: E501\n",
    "    },\n",
    "}\n"
   ]
  },
  {
   "cell_type": "code",
   "execution_count": 5,
   "metadata": {},
   "outputs": [],
   "source": [
    "# ====================================================\n",
    "# ステートの定義\n",
    "# ====================================================\n",
    "import operator\n",
    "from typing import Annotated\n",
    "\n",
    "# from langchain_core.pydantic_v1 import BaseModel, Field\n",
    "from pydantic import BaseModel, Field\n",
    "\n",
    "\n",
    "class State(BaseModel):\n",
    "    query: str = Field(description=\"ユーザーからの質問\")\n",
    "\n",
    "    current_role: str = Field(default=\"\", description=\"選定された回答ロール\")\n",
    "\n",
    "    messages: Annotated[list[str], operator.add] = Field(default=[], description=\"回答履歴\")\n",
    "\n",
    "    current_judge: bool = Field(default=False, description=\"品質チェックの結果\")\n",
    "\n",
    "    judgement_reason: str = Field(default=\"\", description=\"品質チェックの判定理由\")\n"
   ]
  },
  {
   "cell_type": "code",
   "execution_count": 6,
   "metadata": {},
   "outputs": [],
   "source": [
    "# ====================================================\n",
    "# Chat modelの初期化\n",
    "# ====================================================\n",
    "from langchain_core.runnables import ConfigurableField\n",
    "from langchain_openai import ChatOpenAI\n",
    "\n",
    "llm = ChatOpenAI(model=\"gpt-4o\", temperature=0)\n",
    "# 後からmax_tokensの値を変更できるように、変更可能なフィールドを宣言\n",
    "llm = llm.configurable_fields(max_tokens=ConfigurableField(id=\"max_tokens\"))\n"
   ]
  },
  {
   "cell_type": "code",
   "execution_count": 9,
   "metadata": {},
   "outputs": [],
   "source": [
    "# ====================================================\n",
    "# ノードの定義\n",
    "# ====================================================\n",
    "\n",
    "# selectionノードの実装\n",
    "from typing import Any\n",
    "\n",
    "from langchain_core.output_parsers import StrOutputParser\n",
    "from langchain_core.prompts import ChatPromptTemplate\n",
    "\n",
    "\n",
    "def selection_node(state: State) -> dict[str, Any]:\n",
    "    query = state.query\n",
    "    role_options = \"\\n\".join([f\"{role_id}: {role['name']}\" for role_id, role in ROLES.items()])\n",
    "    prompt = ChatPromptTemplate.from_template(\n",
    "        \"\"\"質問を分析し、最も適切な回答担当ロールを選択してください。\n",
    "\n",
    "    選択肢：\n",
    "    {role_options}\n",
    "\n",
    "    回答は選択肢の番号（1、2、または3）のみを返してください。\n",
    "\n",
    "    質問：{query}\n",
    "    \"\"\".strip()\n",
    "    )\n",
    "\n",
    "    # 選択肢の番号のみを返すことを期待したいため、max_tokensの値を1に変更\n",
    "    chain = prompt | llm.with_config(configurable=dict(max_tokens=1)) | StrOutputParser()\n",
    "    role_number = chain.invoke({\"role_options\": role_options, \"query\": query})\n",
    "    selected_role = ROLES[role_number.strip()][\"name\"]\n",
    "\n",
    "    return {\"current_role\": selected_role}\n"
   ]
  },
  {
   "cell_type": "code",
   "execution_count": 16,
   "metadata": {},
   "outputs": [],
   "source": [
    "# answeringノードの実装\n",
    "def answering_node(state: State) -> dict[str, Any]:\n",
    "    query = state.query\n",
    "    role = state.current_role\n",
    "    role_details = \"\\n\".join([f\"- {value['name']}: {value['description']}\" for value in ROLES.values()])\n",
    "\n",
    "    prompts = ChatPromptTemplate.from_template(\n",
    "        \"\"\"\n",
    "        あなたは{role}として回答してください。以下の質問に対して、あなたの役割に基づいた適切な回答を提供してください。\n",
    "\n",
    "        役割の詳細：\n",
    "        {role_details}\n",
    "\n",
    "        質問：{query}\n",
    "\n",
    "        回答：\n",
    "        \"\"\".strip()\n",
    "    )\n",
    "\n",
    "    chain = prompts | llm | StrOutputParser()\n",
    "    answer = chain.invoke({\"role\": role, \"role_details\": role_details, \"query\": query})\n",
    "\n",
    "    return {\"messages\": [answer]}\n"
   ]
  },
  {
   "cell_type": "code",
   "execution_count": 17,
   "metadata": {},
   "outputs": [],
   "source": [
    "# checkノードの実装\n",
    "class Judgement(BaseModel):\n",
    "    reason: str = Field(default=\"\", description=\"判定理由\")\n",
    "    judge: bool = Field(default=False, description=\"判定結果\")\n",
    "\n",
    "\n",
    "def check_node(state: State) -> dict[str, Any]:\n",
    "    query = state.query\n",
    "    answer = state.messages[-1]\n",
    "\n",
    "    prompt = ChatPromptTemplate.from_template(\n",
    "        \"\"\"以下の回答の品質をチェックし、問題がある場合は'False'、問題がない場合は'True'と回答してください。\n",
    "        またその判断理由も説明してください。\n",
    "\n",
    "        ユーザーからの質問：{query}\n",
    "        回答：{answer}\n",
    "        \"\"\".strip()\n",
    "    )\n",
    "\n",
    "    chain = prompt | llm.with_structured_output(Judgement)\n",
    "    result: Judgement = chain.invoke({\"query\": query, \"answer\": answer})\n",
    "\n",
    "    return {\"current_judge\": result.judge, \"judgement_reason\": result.reason}\n"
   ]
  },
  {
   "cell_type": "code",
   "execution_count": 18,
   "metadata": {},
   "outputs": [],
   "source": [
    "# ====================================================\n",
    "# グラフの作成\n",
    "# ====================================================\n",
    "from langgraph.graph import StateGraph\n",
    "\n",
    "workflow = StateGraph(State)\n"
   ]
  },
  {
   "cell_type": "code",
   "execution_count": 19,
   "metadata": {},
   "outputs": [],
   "source": [
    "# ====================================================\n",
    "# ノードの追加\n",
    "# ====================================================\n",
    "workflow.add_node(\"selection\", selection_node)\n",
    "workflow.add_node(\"answering\", answering_node)\n",
    "workflow.add_node(\"check\", check_node)\n"
   ]
  },
  {
   "cell_type": "code",
   "execution_count": 22,
   "metadata": {},
   "outputs": [],
   "source": [
    "# ====================================================\n",
    "# エッジの定義\n",
    "# ====================================================\n",
    "\n",
    "# selectionノードから処理を開始\n",
    "workflow.set_entry_point(\"selection\")\n",
    "# 下記の書き方でも可能\n",
    "# from langgraph.graph import START\n",
    "# workflow.add_edge(START, \"selection\")\n",
    "\n",
    "# selectionノードからansweringノードへ\n",
    "workflow.add_edge(\"selection\", \"answering\")\n",
    "# answeringノードからcheckノードへ\n",
    "workflow.add_edge(\"answering\", \"check\")\n",
    "\n",
    "# ====================================================\n",
    "# 条件付きエッジの定義\n",
    "# ====================================================\n",
    "from langgraph.graph import END  # noqa: E402\n",
    "\n",
    "# checkノードから次のノードへの遷移に条件付きエッジを定義\n",
    "# state.current_judgeがTrueならENDノードへ、Falseならselectionノードへ\n",
    "workflow.add_conditional_edges(\"check\", lambda state: state.current_judge, {True: END, False: \"selection\"})\n",
    "\n",
    "# ====================================================\n",
    "# グラフのコンパイル\n",
    "# ====================================================\n",
    "compiled = workflow.compile()\n"
   ]
  },
  {
   "cell_type": "code",
   "execution_count": 36,
   "metadata": {},
   "outputs": [],
   "source": [
    "# ====================================================\n",
    "# グラフの実行\n",
    "# ====================================================\n",
    "initial_state = State(query=\"生成AIの今後の発展について教えてください。\")\n",
    "result = compiled.invoke(initial_state)\n"
   ]
  },
  {
   "cell_type": "code",
   "execution_count": 37,
   "metadata": {},
   "outputs": [
    {
     "name": "stdout",
     "output_type": "stream",
     "text": [
      "生成AI製品エキスパートとしてお答えします。\n",
      "\n",
      "生成AIの今後の発展は非常に多岐にわたる可能性があります。まず、技術的な進歩として、モデルの精度と効率がさらに向上することが期待されています。これにより、より自然で人間らしいテキストや画像の生成が可能になるでしょう。\n",
      "\n",
      "また、生成AIはさまざまな産業での応用が進むと考えられます。例えば、コンテンツ制作、カスタマーサポート、自動翻訳、医療診断、クリエイティブなデザインなど、多くの分野での活用が進むでしょう。特に、個別化されたユーザー体験の提供や、効率的なデータ分析の支援において重要な役割を果たすと予想されます。\n",
      "\n",
      "さらに、倫理的な側面やプライバシーの問題に対する取り組みも重要です。生成AIの利用が広がる中で、フェイクニュースやデジタル著作権の問題などに対する対策が求められています。これに対して、透明性の向上や、AIの出力を検証するための新しい技術の開発が進むでしょう。\n",
      "\n",
      "最後に、生成AIの民主化が進むことで、より多くの人々がこの技術を利用し、新しいアイデアやビジネスを生み出す機会が増えると考えられます。これにより、社会全体でのイノベーションが加速することが期待されます。\n"
     ]
    }
   ],
   "source": [
    "# 結果の表示\n",
    "print(result[\"messages\"][-1])\n"
   ]
  },
  {
   "cell_type": "code",
   "execution_count": 26,
   "metadata": {},
   "outputs": [
    {
     "data": {
      "image/jpeg": "[encoded data removed]",
      "text/plain": [
       "<IPython.core.display.Image object>"
      ]
     },
     "metadata": {},
     "output_type": "display_data"
    }
   ],
   "source": [
    "# ====================================================\n",
    "# グラフの可視化\n",
    "# ====================================================\n",
    "from IPython.display import Image, display\n",
    "\n",
    "# 本文中ではdraw_png関数を使用していたが、今回はpygraphvizをインストールしていないため、draw_mermaid_png関数を使用\n",
    "display(Image(compiled.get_graph().draw_mermaid_png()))\n"
   ]
  }
 ],
 "metadata": {
  "kernelspec": {
   "display_name": ".venv",
   "language": "python",
   "name": "python3"
  },
  "language_info": {
   "codemirror_mode": {
    "name": "ipython",
    "version": 3
   },
   "file_extension": ".py",
   "mimetype": "text/x-python",
   "name": "python",
   "nbconvert_exporter": "python",
   "pygments_lexer": "ipython3",
   "version": "3.10.16"
  }
 },
 "nbformat": 4,
 "nbformat_minor": 2
}
